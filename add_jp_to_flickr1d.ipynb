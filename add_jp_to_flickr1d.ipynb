{
 "cells": [
  {
   "cell_type": "code",
   "execution_count": null,
   "id": "9d48ceb8",
   "metadata": {},
   "outputs": [],
   "source": [
    "import json\n",
    "import shutil\n",
    "import os"
   ]
  },
  {
   "cell_type": "code",
   "execution_count": null,
   "id": "c81d2a97",
   "metadata": {},
   "outputs": [],
   "source": [
    "base_dn = '/Users/pbos/projects/spokenLanguage/data/'"
   ]
  },
  {
   "cell_type": "code",
   "execution_count": null,
   "id": "774670d1",
   "metadata": {},
   "outputs": [],
   "source": [
    "with open(base_dn + 'dataset_multilingual.json') as fh:\n",
    "    meta_multilang = json.load(fh)"
   ]
  },
  {
   "cell_type": "code",
   "execution_count": null,
   "id": "51df259d",
   "metadata": {},
   "outputs": [],
   "source": [
    "with open(base_dn + '../flickr1d_git/flickr1d/dataset.json') as fh:\n",
    "    meta_1d = json.load(fh)"
   ]
  },
  {
   "cell_type": "code",
   "execution_count": null,
   "id": "81772989",
   "metadata": {},
   "outputs": [],
   "source": [
    "meta_1d"
   ]
  },
  {
   "cell_type": "code",
   "execution_count": null,
   "id": "e315fb74",
   "metadata": {},
   "outputs": [],
   "source": [
    "meta_multilang['images'][:10]"
   ]
  },
  {
   "cell_type": "code",
   "execution_count": null,
   "id": "6fd0246b",
   "metadata": {},
   "outputs": [],
   "source": [
    "for ix, image in enumerate(meta_1d['images']):\n",
    "    for jx, sentence in enumerate(image['sentences']):\n",
    "        sentence['raw_jp'] = meta_multilang['images'][ix]['sentences'][jx]['raw_jp']"
   ]
  },
  {
   "cell_type": "code",
   "execution_count": null,
   "id": "54defee3",
   "metadata": {},
   "outputs": [],
   "source": [
    "meta_1d"
   ]
  },
  {
   "cell_type": "code",
   "execution_count": null,
   "id": "5397028e",
   "metadata": {},
   "outputs": [],
   "source": [
    "with open(base_dn + 'flickr1d/dataset.json', 'w') as fh:\n",
    "    json.dump(meta_1d, fh)"
   ]
  },
  {
   "cell_type": "code",
   "execution_count": null,
   "id": "d1281901",
   "metadata": {},
   "outputs": [],
   "source": []
  }
 ],
 "metadata": {
  "language_info": {
   "name": "python",
   "pygments_lexer": "ipython3"
  }
 },
 "nbformat": 4,
 "nbformat_minor": 5
}
